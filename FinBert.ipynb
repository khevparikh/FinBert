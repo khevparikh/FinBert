{
  "cells": [
    {
      "cell_type": "code",
      "execution_count": null,
      "metadata": {
        "id": "ffIGTSU1CyDJ"
      },
      "outputs": [],
      "source": [
        "# !pip install datasets\n",
        "# !pip install transformers"
      ]
    },
    {
      "cell_type": "code",
      "execution_count": null,
      "metadata": {
        "id": "dm_-boTmCu2j"
      },
      "outputs": [],
      "source": [
        "import os\n",
        "import sys\n",
        "\n",
        "import torch \n",
        "import torch.nn as nn\n",
        "from tqdm import tqdm\n",
        "\n",
        "from datasets import load_dataset\n",
        "from torch.utils.data import DataLoader\n",
        "\n",
        "from transformers import BertForSequenceClassification, BertTokenizer\n",
        "from transformers import AutoModelForSequenceClassification, AutoTokenizer\n",
        "\n",
        "from torch.utils.data import TensorDataset, DataLoader, RandomSampler, SequentialSampler"
      ]
    },
    {
      "cell_type": "code",
      "execution_count": null,
      "metadata": {
        "id": "5xNyGfYICu2k"
      },
      "outputs": [],
      "source": [
        "import warnings\n",
        "warnings.filterwarnings('ignore')"
      ]
    },
    {
      "cell_type": "code",
      "execution_count": null,
      "metadata": {
        "colab": {
          "base_uri": "https://localhost:8080/"
        },
        "id": "sm1a4X4CCu2l",
        "outputId": "37a3d8f5-2eac-4f2e-da6c-8a015a8ce903"
      },
      "outputs": [
        {
          "output_type": "execute_result",
          "data": {
            "text/plain": [
              "True"
            ]
          },
          "metadata": {},
          "execution_count": 4
        }
      ],
      "source": [
        "torch.cuda.is_available()"
      ]
    },
    {
      "cell_type": "code",
      "source": [
        "from google.colab import drive\n",
        "drive.mount('/content/drive')"
      ],
      "metadata": {
        "colab": {
          "base_uri": "https://localhost:8080/"
        },
        "id": "pYqY6RAKXSaF",
        "outputId": "c111a880-8edf-4d1b-c0c2-2df5200dbff9"
      },
      "execution_count": null,
      "outputs": [
        {
          "output_type": "stream",
          "name": "stdout",
          "text": [
            "Drive already mounted at /content/drive; to attempt to forcibly remount, call drive.mount(\"/content/drive\", force_remount=True).\n"
          ]
        }
      ]
    },
    {
      "cell_type": "code",
      "source": [
        "cd '/content/drive/MyDrive/'"
      ],
      "metadata": {
        "colab": {
          "base_uri": "https://localhost:8080/"
        },
        "id": "CF5BqxmZXUGE",
        "outputId": "2994451f-1a93-41b9-b198-6107ff8d1771"
      },
      "execution_count": null,
      "outputs": [
        {
          "output_type": "stream",
          "name": "stdout",
          "text": [
            "/content/drive/MyDrive\n"
          ]
        }
      ]
    },
    {
      "cell_type": "code",
      "source": [
        "# Random seed for reproducibilty\n",
        "import numpy as np\n",
        "RANDOM_SEED = 42\n",
        "np.random.seed(RANDOM_SEED)\n",
        "torch.manual_seed(RANDOM_SEED)"
      ],
      "metadata": {
        "colab": {
          "base_uri": "https://localhost:8080/"
        },
        "id": "maPblVJ7XXMU",
        "outputId": "d8d120dc-0a31-4366-c1cd-5e49be2614c1"
      },
      "execution_count": null,
      "outputs": [
        {
          "output_type": "execute_result",
          "data": {
            "text/plain": [
              "<torch._C.Generator at 0x7f435a43c590>"
            ]
          },
          "metadata": {},
          "execution_count": 7
        }
      ]
    },
    {
      "cell_type": "code",
      "execution_count": null,
      "metadata": {
        "colab": {
          "base_uri": "https://localhost:8080/",
          "height": 194,
          "referenced_widgets": [
            "68da98ae82c14996a3c60a629dba69ee",
            "80d3cd5d675740e5ac30d2498fd0f1f7",
            "cda7a464e8854094922d62ef85e4b0e9",
            "21074534cb67481e8e9b98ed36799014",
            "cfb3201607fc481fb75fb382718dd850",
            "6c50fbf06fa744cabd652ffef6001715",
            "9c8d3523d82f47aeb8b4408cdbeb2839",
            "cf25dc4961ad45ac8db18a2d9c30fd5d",
            "50b75d4faf394d0a9b5f44a3ef7a7289",
            "a03a1800117b4a7f941ba6ec7a025423",
            "09c27dfca11b4b9a8531181c5fd1aa8a"
          ]
        },
        "id": "sTbTcl9SCu2m",
        "outputId": "32cf4bec-6a67-4e1a-e9f1-77b422bece60"
      },
      "outputs": [
        {
          "output_type": "stream",
          "name": "stderr",
          "text": [
            "WARNING:datasets.builder:Found cached dataset financial_phrasebank (/root/.cache/huggingface/datasets/financial_phrasebank/sentences_50agree/1.0.0/550bde12e6c30e2674da973a55f57edde5181d53f5a5a34c1531c53f93b7e141)\n"
          ]
        },
        {
          "output_type": "display_data",
          "data": {
            "text/plain": [
              "  0%|          | 0/1 [00:00<?, ?it/s]"
            ],
            "application/vnd.jupyter.widget-view+json": {
              "version_major": 2,
              "version_minor": 0,
              "model_id": "68da98ae82c14996a3c60a629dba69ee"
            }
          },
          "metadata": {}
        },
        {
          "output_type": "execute_result",
          "data": {
            "text/plain": [
              "DatasetDict({\n",
              "    train: Dataset({\n",
              "        features: ['sentence', 'label'],\n",
              "        num_rows: 4846\n",
              "    })\n",
              "})"
            ]
          },
          "metadata": {},
          "execution_count": 8
        }
      ],
      "source": [
        "financial_phrasebank = load_dataset('financial_phrasebank', 'sentences_50agree') \n",
        "financial_phrasebank"
      ]
    },
    {
      "cell_type": "markdown",
      "metadata": {
        "id": "n7KSU_wUCu2m"
      },
      "source": [
        "#### Training Examples: \n",
        "- 0: 'negative'\n",
        "- 1: 'neutral'\n",
        "- 2: 'positive'"
      ]
    },
    {
      "cell_type": "code",
      "execution_count": null,
      "metadata": {
        "colab": {
          "base_uri": "https://localhost:8080/"
        },
        "id": "TN69qBawCu2n",
        "outputId": "cae2c7d8-6f83-491c-fb04-c073b202c37d"
      },
      "outputs": [
        {
          "output_type": "stream",
          "name": "stdout",
          "text": [
            "Sentence: According to Gran , the company has no plans to move all production to Russia , although that is where the company is growing .\n",
            "Label: 1\n"
          ]
        }
      ],
      "source": [
        "print(\"Sentence:\", financial_phrasebank['train'][0]['sentence'])\n",
        "print(\"Label:\", financial_phrasebank['train'][0]['label'])"
      ]
    },
    {
      "cell_type": "code",
      "execution_count": null,
      "metadata": {
        "colab": {
          "base_uri": "https://localhost:8080/"
        },
        "id": "HdND9I6GCu2n",
        "outputId": "fb8c86eb-e267-49f6-d506-d411ea7b1239"
      },
      "outputs": [
        {
          "output_type": "stream",
          "name": "stdout",
          "text": [
            "Sentence: Lifetree was founded in 2000 , and its revenues have risen on an average by 40 % with margins in late 30s .\n",
            "Label: Positive\n"
          ]
        }
      ],
      "source": [
        "print(\"Sentence:\", financial_phrasebank['train'][20]['sentence'])\n",
        "print('Label: Positive')\n",
        "# print(\"Label:\", financial_phrasebank['train'][20]['label'])"
      ]
    },
    {
      "cell_type": "markdown",
      "metadata": {
        "id": "DU2Z0sRe6BNi"
      },
      "source": [
        "#### Create a validation set"
      ]
    },
    {
      "cell_type": "code",
      "execution_count": null,
      "metadata": {
        "id": "sqeeIF7mxv-r"
      },
      "outputs": [],
      "source": [
        "from sklearn.model_selection import train_test_split\n",
        "\n",
        "train_inputs, test_inputs, train_labels, test_labels = train_test_split(financial_phrasebank['train']['sentence'], \n",
        "                                                                            financial_phrasebank['train']['label'], \n",
        "                                                                            test_size = 0.2, random_state=0)\n",
        "\n",
        "train_inputs, validation_inputs, train_labels, validation_labels = train_test_split(train_inputs, train_labels, test_size=0.1, random_state=0)\n",
        "\n"
      ]
    },
    {
      "cell_type": "code",
      "source": [
        "print(\"Sample sizes: \\n Train: {} \\n Validation: {} \\n Test: {}\".format(len(train_inputs), len(validation_inputs), len(test_inputs)))"
      ],
      "metadata": {
        "colab": {
          "base_uri": "https://localhost:8080/"
        },
        "id": "w57z6PixXpV3",
        "outputId": "6c9651cd-91b9-40a5-81e1-7494ae533f25"
      },
      "execution_count": null,
      "outputs": [
        {
          "output_type": "stream",
          "name": "stdout",
          "text": [
            "Sample sizes: \n",
            " Train: 3488 \n",
            " Validation: 388 \n",
            " Test: 970\n"
          ]
        }
      ]
    },
    {
      "cell_type": "code",
      "execution_count": null,
      "metadata": {
        "id": "dX5QXHZUZdfe"
      },
      "outputs": [],
      "source": [
        "financial_phrasebank_dict = {\n",
        "    'train': {'sentence': train_inputs, \n",
        "              'label': train_labels\n",
        "              },\n",
        "    'valid': {'sentence': validation_inputs, \n",
        "              'label': validation_labels\n",
        "              },\n",
        "    'test': {'sentence': test_inputs, \n",
        "              'label': test_labels\n",
        "             }\n",
        "    }"
      ]
    },
    {
      "cell_type": "code",
      "source": [
        "financial_phrasebank_dict['train']['sentence'][20]"
      ],
      "metadata": {
        "colab": {
          "base_uri": "https://localhost:8080/",
          "height": 35
        },
        "id": "CDKMNKCXXs_A",
        "outputId": "0bace1af-9a59-49c2-c659-a41ed043b8de"
      },
      "execution_count": null,
      "outputs": [
        {
          "output_type": "execute_result",
          "data": {
            "text/plain": [
              "'The measures result from the statutory joint negotiations with employees which started in February and concerned all operations in the country .'"
            ],
            "application/vnd.google.colaboratory.intrinsic+json": {
              "type": "string"
            }
          },
          "metadata": {},
          "execution_count": 14
        }
      ]
    },
    {
      "cell_type": "markdown",
      "source": [
        "\n",
        "Original paper configurations: \n",
        "    \n",
        "    Tokenizer = bert-base-cased,\n",
        "    Bert model = bert-base-uncased,\n",
        "    Num Train Epochs = 4.0,\n",
        "    Max sequence length = 64,\n",
        "    Train batch size = 32,\n",
        "    Learning rate = 2e-5,\n",
        "    Output mode ='classification'\n"
      ],
      "metadata": {
        "id": "vX6b7W6QXw8N"
      }
    },
    {
      "cell_type": "markdown",
      "metadata": {
        "id": "wNQeqmkBCu2n"
      },
      "source": [
        "#### Tokenize"
      ]
    },
    {
      "cell_type": "markdown",
      "source": [
        "Tokenize and add paddings to all of the sentences and map the tokens to thier word IDs.\n",
        "For every sentence, BertTokenizer will:\n",
        "  - (1) Tokenize the sentence.\n",
        "  - (2) Prepend the `[CLS]` token to the start. - token id 101\n",
        "  - (3) Append the `[SEP]` token to the end. - token id 102\n",
        "  - (4) Map tokens to their IDs.\n",
        "  - (5) Ensure all sentences are equal length. Pad sequences with 0 "
      ],
      "metadata": {
        "id": "nm7EXlyzX0Bq"
      }
    },
    {
      "cell_type": "code",
      "execution_count": null,
      "metadata": {
        "id": "Y0jGyOXECu2n"
      },
      "outputs": [],
      "source": [
        "# Build a BERT based tokenizer\n",
        "tokenizer = AutoTokenizer.from_pretrained(\"bert-base-cased\", do_lower_case=True) "
      ]
    },
    {
      "cell_type": "code",
      "source": [
        "# Some of the common BERT tokens\n",
        "print(tokenizer.sep_token, tokenizer.sep_token_id) # marker for ending of a sentence\n",
        "print(tokenizer.cls_token, tokenizer.cls_token_id) # start of each sentence, so BERT knows we’re doing classification\n",
        "print(tokenizer.pad_token, tokenizer.pad_token_id) # special token for padding\n",
        "print(tokenizer.unk_token, tokenizer.unk_token_id) # tokens not found in training set "
      ],
      "metadata": {
        "colab": {
          "base_uri": "https://localhost:8080/"
        },
        "id": "W11ikgdyX4Bf",
        "outputId": "cbec7588-92d0-4420-9f6d-00bf0527aeaf"
      },
      "execution_count": null,
      "outputs": [
        {
          "output_type": "stream",
          "name": "stdout",
          "text": [
            "[SEP] 102\n",
            "[CLS] 101\n",
            "[PAD] 0\n",
            "[UNK] 100\n"
          ]
        }
      ]
    },
    {
      "cell_type": "code",
      "execution_count": null,
      "metadata": {
        "id": "Y2GPaJsHCu2o"
      },
      "outputs": [],
      "source": [
        "# def encode_sentences(sentences): \n",
        "#     tokenized_datasets = []\n",
        "#     for sentence in sentences:\n",
        "#         encoded = tokenizer.encode_plus(sentence, max_length = 256, pad_to_max_length = True, truncation=True)\n",
        "#         tokenized_datasets.append(encoded.token_type_ids)\n",
        "#     return tokenized_datasets\n",
        "# train_tokenized = encode_sentences(auditor_sentiment['train']['sentence'])\n",
        "# test_itokenized = encode_sentences(auditor_sentiment['test']['sentence'])\n",
        "# tokenized_datasets = {}\n",
        "# for collection in auditor_sentiment:\n",
        "#     tokenized_datasets[collection] = tokenizer(auditor_sentiment[collection]['sentence'], return_tensors='pt', padding=True)\n",
        "#     tokenized_datasets[collection]['labels'] = auditor_sentiment[collection]['label']"
      ]
    },
    {
      "cell_type": "code",
      "execution_count": null,
      "metadata": {
        "id": "qSI1IFYL11gG"
      },
      "outputs": [],
      "source": [
        "def tokenize_datasets(data):\n",
        "  tokenized_datasets = {}\n",
        "  for collection in data: \n",
        "    tokenized_datasets[collection] = tokenizer(data[collection]['sentence'], padding='max_length', max_length = 64, truncation=True, return_tensors='pt')\n",
        "    tokenized_datasets[collection]['label'] = data[collection]['label']\n",
        "\n",
        "    tokenized_datasets[collection]['tokens'] = [[\"[CLS]\"] + tokenizer.tokenize(row) + [\"[SEP]\"] for row in data[collection]['sentence']]\n",
        "  \n",
        "  return tokenized_datasets"
      ]
    },
    {
      "cell_type": "code",
      "execution_count": null,
      "metadata": {
        "id": "pj1XeROlZ-JP"
      },
      "outputs": [],
      "source": [
        "tokenized_datasets = tokenize_datasets(financial_phrasebank_dict)"
      ]
    },
    {
      "cell_type": "code",
      "execution_count": null,
      "metadata": {
        "colab": {
          "base_uri": "https://localhost:8080/"
        },
        "id": "-_T6ZV7CCu2o",
        "outputId": "5660ba6f-ffa6-4061-e26a-fc1aab528364"
      },
      "outputs": [
        {
          "output_type": "execute_result",
          "data": {
            "text/plain": [
              "{'input_ids': [101, 1170, 1103, 7516, 1669, 117, 25128, 9570, 1564, 1821, 26237, 1389, 15469, 3547, 1177, 22871, 1320, 18119, 1116, 1717, 3112, 2686, 1114, 9468, 13505, 11470, 7582, 1107, 170, 3955, 4065, 123, 7300, 3443, 1111, 9987, 172, 5800, 1891, 119, 102], 'token_type_ids': [0, 0, 0, 0, 0, 0, 0, 0, 0, 0, 0, 0, 0, 0, 0, 0, 0, 0, 0, 0, 0, 0, 0, 0, 0, 0, 0, 0, 0, 0, 0, 0, 0, 0, 0, 0, 0, 0, 0, 0, 0], 'attention_mask': [1, 1, 1, 1, 1, 1, 1, 1, 1, 1, 1, 1, 1, 1, 1, 1, 1, 1, 1, 1, 1, 1, 1, 1, 1, 1, 1, 1, 1, 1, 1, 1, 1, 1, 1, 1, 1, 1, 1, 1, 1]}"
            ]
          },
          "metadata": {},
          "execution_count": 20
        }
      ],
      "source": [
        "tokenizer(financial_phrasebank_dict['train']['sentence'][0])"
      ]
    },
    {
      "cell_type": "code",
      "source": [
        "print(\"Tokens:\", tokenized_datasets['train']['tokens'][0])\n",
        "print(len(tokenized_datasets['train']['tokens'][0]))\n",
        "print(\"Label:\", tokenized_datasets['train']['label'][0])\n",
        "print(\"Input:\", tokenized_datasets['train']['input_ids'][0])\n",
        "print(tokenized_datasets['train']['input_ids'][0].size())\n",
        "print(\"Token Type Ids:\", tokenized_datasets['train']['token_type_ids'][0])\n",
        "print(\"Attention Mask:\", tokenized_datasets['train']['attention_mask'][0])"
      ],
      "metadata": {
        "colab": {
          "base_uri": "https://localhost:8080/"
        },
        "id": "j_wZOzWIYEV1",
        "outputId": "4a5602d2-4c49-4a3c-f7de-bc12de3ad1e3"
      },
      "execution_count": null,
      "outputs": [
        {
          "output_type": "stream",
          "name": "stdout",
          "text": [
            "Tokens: ['[CLS]', 'after', 'the', 'reporting', 'period', ',', 'bio', '##tie', 'north', 'am', '##eric', '##an', 'licensing', 'partner', 'so', '##max', '##on', 'pharmaceutical', '##s', 'announced', 'positive', 'results', 'with', 'na', '##lm', '##ef', '##ene', 'in', 'a', 'pilot', 'phase', '2', 'clinical', 'trial', 'for', 'smoking', 'c', '##ess', '##ation', '.', '[SEP]']\n",
            "41\n",
            "Label: 2\n",
            "Input: tensor([  101,  1170,  1103,  7516,  1669,   117, 25128,  9570,  1564,  1821,\n",
            "        26237,  1389, 15469,  3547,  1177, 22871,  1320, 18119,  1116,  1717,\n",
            "         3112,  2686,  1114,  9468, 13505, 11470,  7582,  1107,   170,  3955,\n",
            "         4065,   123,  7300,  3443,  1111,  9987,   172,  5800,  1891,   119,\n",
            "          102,     0,     0,     0,     0,     0,     0,     0,     0,     0,\n",
            "            0,     0,     0,     0,     0,     0,     0,     0,     0,     0,\n",
            "            0,     0,     0,     0])\n",
            "torch.Size([64])\n",
            "Token Type Ids: tensor([0, 0, 0, 0, 0, 0, 0, 0, 0, 0, 0, 0, 0, 0, 0, 0, 0, 0, 0, 0, 0, 0, 0, 0,\n",
            "        0, 0, 0, 0, 0, 0, 0, 0, 0, 0, 0, 0, 0, 0, 0, 0, 0, 0, 0, 0, 0, 0, 0, 0,\n",
            "        0, 0, 0, 0, 0, 0, 0, 0, 0, 0, 0, 0, 0, 0, 0, 0])\n",
            "Attention Mask: tensor([1, 1, 1, 1, 1, 1, 1, 1, 1, 1, 1, 1, 1, 1, 1, 1, 1, 1, 1, 1, 1, 1, 1, 1,\n",
            "        1, 1, 1, 1, 1, 1, 1, 1, 1, 1, 1, 1, 1, 1, 1, 1, 1, 0, 0, 0, 0, 0, 0, 0,\n",
            "        0, 0, 0, 0, 0, 0, 0, 0, 0, 0, 0, 0, 0, 0, 0, 0])\n"
          ]
        }
      ]
    },
    {
      "cell_type": "code",
      "source": [
        "tokenized_datasets['train'].keys()"
      ],
      "metadata": {
        "colab": {
          "base_uri": "https://localhost:8080/"
        },
        "id": "LSi4oY8hYGWX",
        "outputId": "47e1a706-23a3-40b9-9fe8-16a79e5afa08"
      },
      "execution_count": null,
      "outputs": [
        {
          "output_type": "execute_result",
          "data": {
            "text/plain": [
              "dict_keys(['input_ids', 'token_type_ids', 'attention_mask', 'label', 'tokens'])"
            ]
          },
          "metadata": {},
          "execution_count": 22
        }
      ]
    },
    {
      "cell_type": "code",
      "execution_count": null,
      "metadata": {
        "colab": {
          "base_uri": "https://localhost:8080/"
        },
        "id": "bGgY3aJxCu2o",
        "outputId": "3b0c0567-5755-4ffa-df69-8c7b19058026"
      },
      "outputs": [
        {
          "output_type": "stream",
          "name": "stdout",
          "text": [
            "Max train sentence length:  308\n"
          ]
        }
      ],
      "source": [
        "print('Max train sentence length: ', max([len(sen) for sen in financial_phrasebank_dict['train']['sentence']]))"
      ]
    },
    {
      "cell_type": "markdown",
      "metadata": {
        "id": "SKSbQWs_Cu2p"
      },
      "source": [
        "#### Create dataset and dataloader\n"
      ]
    },
    {
      "cell_type": "code",
      "execution_count": null,
      "metadata": {
        "id": "lSIxvVefFLRy"
      },
      "outputs": [],
      "source": [
        "def data_loader(batch_size, tokenized_data):\n",
        "  #Creating the DataLoader which will help us to load data into the GPU/CPU\n",
        "  batch_size = batch_size\n",
        "  dataloaders = {}\n",
        "  # Create the DataLoader for our data set.\n",
        "  for collection in tokenized_data: \n",
        "    data = TensorDataset(tokenized_data[collection]['input_ids'], tokenized_data[collection]['token_type_ids'], \n",
        "                         tokenized_data[collection]['attention_mask'], torch.tensor(tokenized_data[collection]['label']),\n",
        "                         )\n",
        "    # print(data)\n",
        "    \n",
        "    if collection == 'train':\n",
        "      sampler = RandomSampler(data)\n",
        "    else: \n",
        "      sampler = SequentialSampler(data)\n",
        "    \n",
        "    dataloaders[collection] = DataLoader(data, sampler=sampler, batch_size=batch_size)\n",
        "\n",
        "  return dataloaders"
      ]
    },
    {
      "cell_type": "code",
      "execution_count": null,
      "metadata": {
        "id": "hrBlhFpfae11"
      },
      "outputs": [],
      "source": [
        "data_loaders = data_loader(batch_size=32, tokenized_data=tokenized_datasets)"
      ]
    },
    {
      "cell_type": "markdown",
      "metadata": {
        "id": "Dt2OmyAYJNd5"
      },
      "source": [
        "#### Loading the pre-trained BERT model from huggingface library: \n",
        "BertForSequenceClassification the pretrained BERT model with a single linear classification layer on top. "
      ]
    },
    {
      "cell_type": "code",
      "execution_count": null,
      "metadata": {
        "colab": {
          "base_uri": "https://localhost:8080/"
        },
        "id": "UhjNPW9NIxG4",
        "outputId": "cc2ad9c1-b135-4773-f467-d573b54b3273"
      },
      "outputs": [
        {
          "output_type": "stream",
          "name": "stderr",
          "text": [
            "Some weights of the model checkpoint at bert-base-uncased were not used when initializing BertForSequenceClassification: ['cls.predictions.bias', 'cls.predictions.transform.LayerNorm.bias', 'cls.predictions.transform.dense.bias', 'cls.seq_relationship.bias', 'cls.predictions.decoder.weight', 'cls.predictions.transform.LayerNorm.weight', 'cls.predictions.transform.dense.weight', 'cls.seq_relationship.weight']\n",
            "- This IS expected if you are initializing BertForSequenceClassification from the checkpoint of a model trained on another task or with another architecture (e.g. initializing a BertForSequenceClassification model from a BertForPreTraining model).\n",
            "- This IS NOT expected if you are initializing BertForSequenceClassification from the checkpoint of a model that you expect to be exactly identical (initializing a BertForSequenceClassification model from a BertForSequenceClassification model).\n",
            "Some weights of BertForSequenceClassification were not initialized from the model checkpoint at bert-base-uncased and are newly initialized: ['classifier.weight', 'classifier.bias']\n",
            "You should probably TRAIN this model on a down-stream task to be able to use it for predictions and inference.\n"
          ]
        }
      ],
      "source": [
        "model =  BertForSequenceClassification.from_pretrained(\"bert-base-uncased\", num_labels = 3)"
      ]
    },
    {
      "cell_type": "code",
      "execution_count": null,
      "metadata": {
        "id": "hykC3FdaJrKC"
      },
      "outputs": [],
      "source": [
        "# model"
      ]
    },
    {
      "cell_type": "code",
      "execution_count": null,
      "metadata": {
        "id": "PLybCYpzJ9xh"
      },
      "outputs": [],
      "source": [
        "num_gpus = torch.cuda.device_count()\n",
        "if num_gpus > 0:\n",
        "    device = 'cuda'\n",
        "else:\n",
        "    device = 'cpu'"
      ]
    },
    {
      "cell_type": "code",
      "execution_count": null,
      "metadata": {
        "colab": {
          "base_uri": "https://localhost:8080/"
        },
        "id": "4ALX1msM8me9",
        "outputId": "b5756fec-7e00-46de-c018-656e3c8ce535"
      },
      "outputs": [
        {
          "output_type": "execute_result",
          "data": {
            "text/plain": [
              "True"
            ]
          },
          "metadata": {},
          "execution_count": 29
        }
      ],
      "source": [
        "torch.cuda.is_available()"
      ]
    },
    {
      "cell_type": "code",
      "execution_count": null,
      "metadata": {
        "id": "qYIkHjZwJuCY"
      },
      "outputs": [],
      "source": [
        "optimizer = torch.optim.Adam(model.parameters(), lr=2e-5)\n",
        "criterion = nn.CrossEntropyLoss().to(device)"
      ]
    },
    {
      "cell_type": "code",
      "execution_count": null,
      "metadata": {
        "id": "LpeezVKaAQJg"
      },
      "outputs": [],
      "source": [
        "import numpy as np\n",
        "def accuracy(preds, labels): \n",
        "  preds = preds.detach().cpu().numpy()\n",
        "  labels = labels.to('cpu').numpy()\n",
        "  pred_flat = np.argmax(preds, axis=1).flatten()\n",
        "  labels_flat = labels.flatten()\n",
        "  return np.sum(pred_flat == labels_flat) / len(labels_flat)"
      ]
    },
    {
      "cell_type": "markdown",
      "source": [
        "# Train"
      ],
      "metadata": {
        "id": "dxVmZJ3uZJG5"
      }
    },
    {
      "cell_type": "code",
      "execution_count": null,
      "metadata": {
        "id": "LkKd2gnZCu2s"
      },
      "outputs": [],
      "source": [
        "def train(model, optimizer, criterion, train_dataloader, val_dataloader, num_epochs, load_pretrained=False):\n",
        "    \n",
        "    plot_cache = {'train_loss':[], 'train_acc': [], 'val_loss':[], 'val_acc': []}\n",
        "    train_losses = []\n",
        "    train_accs = []\n",
        "    val_losses = []\n",
        "    val_accs = []\n",
        "    \n",
        "    for epoch in range(num_epochs):\n",
        "        print(\"\")\n",
        "        print(\"Epoch:\", epoch)\n",
        "        if not load_pretrained:\n",
        "            \n",
        "            model.train() \n",
        "            counter = 0\n",
        "            \n",
        "            train_batch_loss = 0\n",
        "            train_batch_acc = 0\n",
        "            \n",
        "            for step, batch in enumerate(train_dataloader):\n",
        "                optimizer.zero_grad()\n",
        "                counter += 1\n",
        "\n",
        "                b_input_ids = batch[0].to(device)\n",
        "                b_token_type_ids = batch[1].to(device)\n",
        "                b_input_mask = batch[2].to(device)\n",
        "                b_labels = batch[3].to(device)\n",
        "\n",
        "                logits = model(b_input_ids, token_type_ids=b_token_type_ids,attention_mask=b_input_mask)[0]\n",
        "                # print(logits.size())   \n",
        "                # print(b_labels.size())\n",
        "                loss = criterion(logits.view(-1, logits.size()[1]), b_labels.view(-1))\n",
        "                loss.backward()\n",
        "                torch.nn.utils.clip_grad_norm_(model.parameters(), 1.0)\n",
        "                optimizer.step()\n",
        "\n",
        "                #train batch accuracy & loss: \n",
        "                train_batch_loss += loss.item()\n",
        "                train_batch_acc += accuracy(logits, b_labels)\n",
        "\n",
        "            epoch_train_loss = train_batch_loss / counter\n",
        "            train_losses.append(epoch_train_loss)\n",
        "\n",
        "            epoch_train_acc = train_batch_acc / counter\n",
        "            train_accs.append(epoch_train_acc)\n",
        "\n",
        "            print(\"\")\n",
        "            print(\"  Average training loss: {0:.2f}\".format(epoch_train_loss))\n",
        "            print(\"  Average training acc: {0:.2f}\".format(epoch_train_acc))\n",
        "\n",
        "        model.eval()\n",
        "        with torch.no_grad():\n",
        "\n",
        "            val_batch_loss = 0\n",
        "            val_batch_acc = 0 \n",
        "            val_counter = 0 \n",
        "\n",
        "            for step, batch in enumerate(val_dataloader):\n",
        "                val_counter +=1 \n",
        "                b_input_ids = batch[0].to(device)\n",
        "                b_token_type_ids = batch[1].to(device)\n",
        "                b_input_mask = batch[2].to(device)\n",
        "                b_labels = batch[3].to(device)\n",
        "\n",
        "                logits = model(b_input_ids, token_type_ids=b_token_type_ids,attention_mask=b_input_mask)[0]\n",
        "                        \n",
        "                val_loss = criterion(logits.view(-1, logits.size()[1]), b_labels.view(-1))\n",
        "                \n",
        "                #validation batch accuracy & loss: \n",
        "                val_batch_loss += val_loss.item()\n",
        "                val_batch_acc += accuracy(logits, b_labels)\n",
        "                # print(\"Batch acc:\", val_batch_acc)\n",
        "                # print(\"Batch loss:\", val_batch_loss)\n",
        "\n",
        "            epoch_val_loss = val_batch_loss / val_counter\n",
        "            val_losses.append(epoch_val_loss)\n",
        "\n",
        "            epoch_val_acc = val_batch_acc / val_counter\n",
        "            val_accs.append(epoch_val_acc)\n",
        "\n",
        "            print(\"\")\n",
        "            print(\"  Average validation loss: {0:.2f}\".format(epoch_val_loss))\n",
        "            print(\"  Average validation accuracy: {0:.2f}\".format(epoch_val_acc))\n",
        "\n",
        "        plot_cache['val_loss'].append(epoch_val_loss)\n",
        "        plot_cache['val_acc'].append(epoch_val_acc)\n",
        "\n",
        "        plot_cache['train_loss'].append(epoch_train_loss)\n",
        "        plot_cache['train_acc'].append(epoch_train_acc)\n",
        "    \n",
        "    return plot_cache"
      ]
    },
    {
      "cell_type": "code",
      "execution_count": null,
      "metadata": {
        "colab": {
          "base_uri": "https://localhost:8080/"
        },
        "id": "MhtAePyE6ZzB",
        "outputId": "6e728925-1c6b-43c5-8f4a-03830c7773e8"
      },
      "outputs": [
        {
          "output_type": "stream",
          "name": "stdout",
          "text": [
            "\n",
            "Epoch: 0\n",
            "\n",
            "  Average training loss: 0.91\n",
            "  Average training acc: 0.59\n",
            "\n",
            "  Average validation loss: 0.82\n",
            "  Average validation accuracy: 0.66\n",
            "\n",
            "Epoch: 1\n",
            "\n",
            "  Average training loss: 0.80\n",
            "  Average training acc: 0.64\n",
            "\n",
            "  Average validation loss: 0.81\n",
            "  Average validation accuracy: 0.66\n",
            "\n",
            "Epoch: 2\n",
            "\n",
            "  Average training loss: 0.71\n",
            "  Average training acc: 0.70\n",
            "\n",
            "  Average validation loss: 0.74\n",
            "  Average validation accuracy: 0.69\n",
            "\n",
            "Epoch: 3\n",
            "\n",
            "  Average training loss: 0.58\n",
            "  Average training acc: 0.76\n",
            "\n",
            "  Average validation loss: 0.72\n",
            "  Average validation accuracy: 0.74\n",
            "\n",
            "Epoch: 4\n",
            "\n",
            "  Average training loss: 0.47\n",
            "  Average training acc: 0.82\n",
            "\n",
            "  Average validation loss: 0.77\n",
            "  Average validation accuracy: 0.76\n"
          ]
        }
      ],
      "source": [
        "plot_cache = train(model.to(device), optimizer, criterion, train_dataloader=data_loaders['train'], val_dataloader=data_loaders['valid'], num_epochs=5,  load_pretrained=False)"
      ]
    },
    {
      "cell_type": "markdown",
      "source": [
        "# Evaluate"
      ],
      "metadata": {
        "id": "qerjThIsYftQ"
      }
    },
    {
      "cell_type": "code",
      "execution_count": null,
      "metadata": {
        "id": "chl3qLkwa8-9",
        "colab": {
          "base_uri": "https://localhost:8080/"
        },
        "outputId": "7b788db6-4246-4bb4-d3b3-044cd5125195"
      },
      "outputs": [
        {
          "output_type": "stream",
          "name": "stdout",
          "text": [
            "Predicting labels for 31 test sentences...\n"
          ]
        }
      ],
      "source": [
        "#Evaluating our model on the test set\n",
        "\n",
        "# Prediction on test set\n",
        "\n",
        "print('Predicting labels for {:,} test sentences...'.format(len(data_loaders['test'])))\n",
        "\n",
        "# Put model in evaluation mode\n",
        "model.eval()\n",
        "\n",
        "# Tracking variables \n",
        "pred_labels , true_labels = [], []\n",
        "\n",
        "# Predict \n",
        "for batch in data_loaders['test']:\n",
        "  # Add batch to GPU\n",
        "  batch = tuple(t.to(device) for t in batch)\n",
        "  #Unpack the inputs from our dataloader\n",
        "  b_input_ids,b_token_type_ids,  b_input_mask, b_labels = batch\n",
        "  \n",
        "  # Telling the model not to compute or store gradients, saving memory and \n",
        "  # speeding up prediction\n",
        "  with torch.no_grad():\n",
        "    outputs = model(b_input_ids, token_type_ids=None, attention_mask=b_input_mask)\n",
        "\n",
        "  logits = outputs[0]\n",
        "\n",
        "  # Move logits and labels to CPU\n",
        "  logits = logits.detach().cpu().numpy()\n",
        "  label_ids = b_labels.to('cpu').numpy()\n",
        "  \n",
        "  # Store predictions and true labels\n",
        "  pred_labels.append(logits)\n",
        "  true_labels.append(label_ids)"
      ]
    },
    {
      "cell_type": "code",
      "source": [
        "# 0: 'negative'\n",
        "# 1: 'neutral'\n",
        "# 2: 'positive\n",
        "neutral, positive, negative = 0,0,0\n",
        "for num in financial_phrasebank_dict['test']['label']: \n",
        "  if num == 1:\n",
        "    neutral += 1 \n",
        "  elif num == 2: \n",
        "    positive += 1 \n",
        "  else: \n",
        "    negative += 1\n",
        "\n",
        "test_size = len(financial_phrasebank_dict['test']['label'])"
      ],
      "metadata": {
        "id": "ggHmjfVuYi18"
      },
      "execution_count": null,
      "outputs": []
    },
    {
      "cell_type": "code",
      "source": [
        "print('Positive samples: %d of %d (%.2f%%)' % (positive, test_size, (positive / test_size * 100.0)))"
      ],
      "metadata": {
        "colab": {
          "base_uri": "https://localhost:8080/"
        },
        "id": "7WbPKBcVYmFC",
        "outputId": "ff5568f5-53cc-4a01-8b68-0f4c84131d64"
      },
      "execution_count": null,
      "outputs": [
        {
          "output_type": "stream",
          "name": "stdout",
          "text": [
            "Positive samples: 267 of 970 (27.53%)\n"
          ]
        }
      ]
    },
    {
      "cell_type": "code",
      "source": [
        "print('Length of one batch of predictions:' , len(pred_labels[0]), '\\n' , pred_labels[0]) "
      ],
      "metadata": {
        "colab": {
          "base_uri": "https://localhost:8080/"
        },
        "id": "wSkT0exsYnX8",
        "outputId": "de26c2e6-4ce4-4dff-ea8b-c349e82fb959"
      },
      "execution_count": null,
      "outputs": [
        {
          "output_type": "stream",
          "name": "stdout",
          "text": [
            "Length of one batch of predictions: 32 \n",
            " [[-1.9561164   1.4764671   0.47912   ]\n",
            " [-1.1707851   1.5321939  -0.30746183]\n",
            " [-1.7339723   2.6343248  -1.4860181 ]\n",
            " [-1.9766779   2.3522124  -0.7139114 ]\n",
            " [-1.4665638   1.9703399  -1.1904297 ]\n",
            " [ 1.8163798  -1.9582653   0.3811872 ]\n",
            " [-2.4837236   2.3419034  -0.42181006]\n",
            " [-1.9693336   2.7756677  -1.5953579 ]\n",
            " [-0.05415426 -1.5534953   1.8259779 ]\n",
            " [-1.0334909   0.60724586  0.5549024 ]\n",
            " [-1.9864109   2.8196588  -1.529021  ]\n",
            " [-1.8395462   2.780816   -1.6727744 ]\n",
            " [-2.1193264   2.1700437  -0.28301784]\n",
            " [-1.662284    1.8751233  -0.20562175]\n",
            " [ 1.022599   -0.9437102   0.58216697]\n",
            " [ 1.6325885  -1.3983743   0.04253381]\n",
            " [-2.107618    2.9093404  -1.1507095 ]\n",
            " [ 1.0961431  -1.6163067   1.1348453 ]\n",
            " [-2.5563602   2.5971236  -0.39279017]\n",
            " [-2.3535526   1.954251   -0.06912953]\n",
            " [-1.8995874   1.0790801   0.7390092 ]\n",
            " [-0.20021155 -1.4299909   1.6287733 ]\n",
            " [ 0.32332602 -0.74758273  0.9827371 ]\n",
            " [ 1.8204323  -1.4610221  -0.10632248]\n",
            " [-1.7332036   2.6151907  -1.6019562 ]\n",
            " [-1.8593755   2.7027545  -1.5176071 ]\n",
            " [-1.7381799   2.6881971  -1.6909248 ]\n",
            " [-2.5037253   2.203426   -0.1968554 ]\n",
            " [-1.636293    2.6276731  -1.3355201 ]\n",
            " [-1.8238356   2.7734542  -1.4930402 ]\n",
            " [-2.4366102   2.746167   -0.99128455]\n",
            " [-2.3266613   2.7904687  -1.1409918 ]]\n"
          ]
        }
      ]
    },
    {
      "cell_type": "code",
      "source": [
        "print('Length of one batch of true labels:' , len(true_labels[0]), '\\n' , true_labels[0]) "
      ],
      "metadata": {
        "colab": {
          "base_uri": "https://localhost:8080/"
        },
        "id": "Jo3oCcOCYol5",
        "outputId": "b4f4f332-b97c-4d12-948e-78e57ef5a742"
      },
      "execution_count": null,
      "outputs": [
        {
          "output_type": "stream",
          "name": "stdout",
          "text": [
            "Length of one batch of true labels: 32 \n",
            " [2 1 1 1 1 0 1 1 2 1 0 1 1 2 2 1 1 1 2 0 2 2 1 0 2 1 1 2 2 0 2 1]\n"
          ]
        }
      ]
    },
    {
      "cell_type": "code",
      "source": [
        "# For each input batch the predictions are a 3-column ndarray (one column for \"0\", one column for \"1\", and one column for \"2\"). \n",
        "# Pick the label with the highest value and turn this\n",
        "predictions = []\n",
        "for i in range(len(pred_labels)):\n",
        "  predictions.append(np.argmax(pred_labels[i], axis=1).flatten())"
      ],
      "metadata": {
        "id": "4SLsgR7BYp9z"
      },
      "execution_count": null,
      "outputs": []
    },
    {
      "cell_type": "code",
      "source": [
        "from sklearn.metrics import accuracy_score, precision_score, f1_score"
      ],
      "metadata": {
        "id": "qDDxJAWZYriQ"
      },
      "execution_count": null,
      "outputs": []
    },
    {
      "cell_type": "code",
      "source": [
        "actual = np.concatenate(true_labels, axis =0)\n",
        "predictions = np.concatenate(predictions, axis =0)"
      ],
      "metadata": {
        "id": "I-x-LBEnYs3w"
      },
      "execution_count": null,
      "outputs": []
    },
    {
      "cell_type": "code",
      "source": [
        "print(\"Accuracy\", accuracy_score(actual, predictions))\n",
        "print(\"Precision\", precision_score(actual, predictions, average='macro'))\n",
        "print(\"F1 Score\", f1_score(actual, predictions, average='macro'))"
      ],
      "metadata": {
        "colab": {
          "base_uri": "https://localhost:8080/"
        },
        "id": "Ro09dEd0YunK",
        "outputId": "da009456-904d-42d5-b553-bb4c71b64d75"
      },
      "execution_count": null,
      "outputs": [
        {
          "output_type": "stream",
          "name": "stdout",
          "text": [
            "Accuracy 0.7061855670103093\n",
            "Precision 0.6594896331738437\n",
            "F1 Score 0.6140012738285491\n"
          ]
        }
      ]
    },
    {
      "cell_type": "markdown",
      "metadata": {
        "id": "OtWSH2bvCu2t"
      },
      "source": [
        "Refrences: \n",
        "- https://huggingface.co/FinanceInc"
      ]
    },
    {
      "cell_type": "markdown",
      "metadata": {
        "id": "vncSKbfVaaUL"
      },
      "source": [
        "# Appendix"
      ]
    },
    {
      "cell_type": "code",
      "execution_count": null,
      "metadata": {
        "id": "zZ1YxiMxCu2p"
      },
      "outputs": [],
      "source": [
        "# class Dataset(torch.utils.data.Dataset):\n",
        "#     def __init__(self, encodings):\n",
        "#         # store encodings internally\n",
        "#         self.encodings = encodings\n",
        "\n",
        "#     def __len__(self):\n",
        "#         # return the number of samples\n",
        "#         return self.encodings['input_ids'].shape[0]\n",
        "\n",
        "#     def __getitem__(self, i):\n",
        "#         # return dictionary of input_ids, attention_mask, and labels for index i\n",
        "#         return {key: tensor[i] for key, tensor in self.encodings.items()}"
      ]
    },
    {
      "cell_type": "code",
      "execution_count": null,
      "metadata": {
        "id": "jrXGlJJICu2p"
      },
      "outputs": [],
      "source": [
        "# encodings = {'train_encodings': {'input_ids': tokenized_datasets['train']['input_ids'], \n",
        "#                                 'token_type_ids': tokenized_datasets['train']['token_type_ids'], \n",
        "#                                 'attention_mask': tokenized_datasets['train']['attention_mask'], \n",
        "#                                 'labels': tokenized_datasets['train']['labels']\n",
        "#                                  },\n",
        "             \n",
        "#              'val_encodings': {'input_ids': tokenized_datasets['validation']['input_ids'], \n",
        "#                                 'token_type_ids': tokenized_datasets['validation']['token_type_ids'], \n",
        "#                                 'attention_mask': tokenized_datasets['validation']['attention_mask'], \n",
        "#                                 'labels': tokenized_datasets['validation']['labels']\n",
        "#                                  },\n",
        "\n",
        "#              'test_encodings':{'input_ids': tokenized_datasets['test']['input_ids'], \n",
        "#                               'token_type_ids': tokenized_datasets['test']['token_type_ids'], \n",
        "#                               'attention_mask': tokenized_datasets['test']['attention_mask'], \n",
        "#                               'labels': tokenized_datasets['test']['labels']\n",
        "#                                }\n",
        "#               }"
      ]
    },
    {
      "cell_type": "code",
      "execution_count": null,
      "metadata": {
        "id": "dnzwCWaFMP7-"
      },
      "outputs": [],
      "source": [
        "# datasets = {\n",
        "#     'train_dataset': Dataset(encodings['train_encodings']),\n",
        "#     'val_dataset': Dataset(encodings['val_encodings']),\n",
        "#     'test_dataset': Dataset(encodings['test_encodings'])\n",
        "#     }"
      ]
    },
    {
      "cell_type": "code",
      "execution_count": null,
      "metadata": {
        "id": "gvttbUAFCu2p"
      },
      "outputs": [],
      "source": [
        "# datasets"
      ]
    },
    {
      "cell_type": "code",
      "execution_count": null,
      "metadata": {
        "id": "jKV9oPfmCu2q"
      },
      "outputs": [],
      "source": [
        "# print(len(datasets['train_dataset']))\n",
        "# print(len(datasets['val_dataset']))"
      ]
    },
    {
      "cell_type": "code",
      "execution_count": null,
      "metadata": {
        "id": "M5h2DhAkLuWQ"
      },
      "outputs": [],
      "source": [
        "# dataloaders = {'loader_train': DataLoader(datasets['train_dataset'], batch_size=32, shuffle=True),\n",
        "#                'loader_val': DataLoader(datasets['val_dataset'], batch_size=32, shuffle=True),\n",
        "#                'loader_test': DataLoader(datasets['test_dataset'], batch_size=32, shuffle=True)}"
      ]
    },
    {
      "cell_type": "code",
      "execution_count": null,
      "metadata": {
        "id": "YZUhtEBcCu2q"
      },
      "outputs": [],
      "source": [
        "# for batch in dataloaders['loader_train']:\n",
        "#     for key, value in batch.items():\n",
        "#         print(key, \":\", value)\n",
        "#     break"
      ]
    },
    {
      "cell_type": "code",
      "execution_count": null,
      "metadata": {
        "id": "_81BoBU2FoBp"
      },
      "outputs": [],
      "source": [
        "# print((tokenized_datasets['train']['input_ids']).size(0))\n",
        "# print((tokenized_datasets['train']['token_type_ids']).size(0)) \n",
        "# print((tokenized_datasets['train']['attention_mask']).size(0))\n",
        "# print(torch.tensor(tokenized_datasets['train']['labels']))"
      ]
    },
    {
      "cell_type": "code",
      "source": [
        "# def train(model, optimizer, criterion, train_dataloader, num_epochs, load_pretrained=False):\n",
        "#     plot_cache = {'train_loss':[], 'train_acc': [], 'val_loss':[], 'val_acc': []}\n",
        "#     train_losses = []\n",
        "#     train_accs = []\n",
        "#     val_losses = []\n",
        "#     val_accs = []\n",
        "    \n",
        "#     for epoch in range(num_epochs):\n",
        "#         print(\"Epoch:\", epoch)\n",
        "#         if not load_pretrained:\n",
        "#           model.train() \n",
        "#             counter = 0\n",
        "#             train_batch_loss = 0\n",
        "#             train_batch_acc = 0\n",
        "\n",
        "#             val_batch_loss = 0\n",
        "#             val_batch_acc = 0 \n",
        "\n",
        "            \n",
        "#             for step, batch in enumerate(train_dataloader):\n",
        "                \n",
        "#                 b_input_ids = batch[0].to(device)\n",
        "#                 b_token_type_ids = batch[1].to(device)\n",
        "#                 b_input_mask = batch[2].to(device)\n",
        "#                 b_labels = batch[3].to(device)\n",
        "\n",
        "#                 optimizer.zero_grad()\n",
        "#                 counter += 1\n",
        "\n",
        "#                 logits = model(b_input_ids, token_type_ids=b_token_type_ids,attention_mask=b_input_mask)[0]\n",
        "#                 # print(logits.size())   \n",
        "#                 # print(b_labels.size())\n",
        "#                 loss = criterion(logits.view(-1, logits.size()[1]), b_labels.view(-1))\n",
        "#                 train_batch_loss += loss.item()\n",
        "\n",
        "#                 #train batch accuracy: \n",
        "#                 train_batch_acc += accuracy(logits, b_labels)\n",
        "\n",
        "#                 loss.backward()\n",
        "#                 torch.nn.utils.clip_grad_norm_(model.parameters(), 1.0)\n",
        "#                 optimizer.step()\n",
        "            \n",
        "#             epoch_train_loss = train_batch_loss / counter\n",
        "#             print(counter)\n",
        "#             train_losses.append(epoch_train_loss)\n",
        "\n",
        "#             epoch_train_acc = train_batch_acc / counter\n",
        "#             # print(counter)\n",
        "#             train_accs.append(epoch_train_acc)\n",
        "\n",
        "#             print(\"\")\n",
        "#             print(\"  Average training loss: {0:.2f}\".format(epoch_train_loss))\n",
        "#             print(\"  Average training acc: {0:.2f}\".format(epoch_train_acc))\n",
        "\n",
        "#         plot_cache['train_loss'].append(epoch_train_loss)\n",
        "#         plot_cache['train_acc'].append(epoch_train_acc)\n",
        "    \n",
        "#     return plot_cache, model"
      ],
      "metadata": {
        "id": "Vq4ccUvKY0ei"
      },
      "execution_count": null,
      "outputs": []
    },
    {
      "cell_type": "code",
      "source": [
        "# plot_cache, model = train(model.to(device), optimizer, criterion, train_dataloader=data_loaders['train'], num_epochs=5, load_pretrained=False)"
      ],
      "metadata": {
        "id": "MFn9Gg70Y1Gl"
      },
      "execution_count": null,
      "outputs": []
    }
  ],
  "metadata": {
    "accelerator": "GPU",
    "colab": {
      "provenance": []
    },
    "gpuClass": "standard",
    "kernelspec": {
      "display_name": "Python 3 (ipykernel)",
      "language": "python",
      "name": "python3"
    },
    "language_info": {
      "codemirror_mode": {
        "name": "ipython",
        "version": 3
      },
      "file_extension": ".py",
      "mimetype": "text/x-python",
      "name": "python",
      "nbconvert_exporter": "python",
      "pygments_lexer": "ipython3",
      "version": "3.9.12"
    },
    "widgets": {
      "application/vnd.jupyter.widget-state+json": {
        "68da98ae82c14996a3c60a629dba69ee": {
          "model_module": "@jupyter-widgets/controls",
          "model_name": "HBoxModel",
          "model_module_version": "1.5.0",
          "state": {
            "_dom_classes": [],
            "_model_module": "@jupyter-widgets/controls",
            "_model_module_version": "1.5.0",
            "_model_name": "HBoxModel",
            "_view_count": null,
            "_view_module": "@jupyter-widgets/controls",
            "_view_module_version": "1.5.0",
            "_view_name": "HBoxView",
            "box_style": "",
            "children": [
              "IPY_MODEL_80d3cd5d675740e5ac30d2498fd0f1f7",
              "IPY_MODEL_cda7a464e8854094922d62ef85e4b0e9",
              "IPY_MODEL_21074534cb67481e8e9b98ed36799014"
            ],
            "layout": "IPY_MODEL_cfb3201607fc481fb75fb382718dd850"
          }
        },
        "80d3cd5d675740e5ac30d2498fd0f1f7": {
          "model_module": "@jupyter-widgets/controls",
          "model_name": "HTMLModel",
          "model_module_version": "1.5.0",
          "state": {
            "_dom_classes": [],
            "_model_module": "@jupyter-widgets/controls",
            "_model_module_version": "1.5.0",
            "_model_name": "HTMLModel",
            "_view_count": null,
            "_view_module": "@jupyter-widgets/controls",
            "_view_module_version": "1.5.0",
            "_view_name": "HTMLView",
            "description": "",
            "description_tooltip": null,
            "layout": "IPY_MODEL_6c50fbf06fa744cabd652ffef6001715",
            "placeholder": "​",
            "style": "IPY_MODEL_9c8d3523d82f47aeb8b4408cdbeb2839",
            "value": "100%"
          }
        },
        "cda7a464e8854094922d62ef85e4b0e9": {
          "model_module": "@jupyter-widgets/controls",
          "model_name": "FloatProgressModel",
          "model_module_version": "1.5.0",
          "state": {
            "_dom_classes": [],
            "_model_module": "@jupyter-widgets/controls",
            "_model_module_version": "1.5.0",
            "_model_name": "FloatProgressModel",
            "_view_count": null,
            "_view_module": "@jupyter-widgets/controls",
            "_view_module_version": "1.5.0",
            "_view_name": "ProgressView",
            "bar_style": "success",
            "description": "",
            "description_tooltip": null,
            "layout": "IPY_MODEL_cf25dc4961ad45ac8db18a2d9c30fd5d",
            "max": 1,
            "min": 0,
            "orientation": "horizontal",
            "style": "IPY_MODEL_50b75d4faf394d0a9b5f44a3ef7a7289",
            "value": 1
          }
        },
        "21074534cb67481e8e9b98ed36799014": {
          "model_module": "@jupyter-widgets/controls",
          "model_name": "HTMLModel",
          "model_module_version": "1.5.0",
          "state": {
            "_dom_classes": [],
            "_model_module": "@jupyter-widgets/controls",
            "_model_module_version": "1.5.0",
            "_model_name": "HTMLModel",
            "_view_count": null,
            "_view_module": "@jupyter-widgets/controls",
            "_view_module_version": "1.5.0",
            "_view_name": "HTMLView",
            "description": "",
            "description_tooltip": null,
            "layout": "IPY_MODEL_a03a1800117b4a7f941ba6ec7a025423",
            "placeholder": "​",
            "style": "IPY_MODEL_09c27dfca11b4b9a8531181c5fd1aa8a",
            "value": " 1/1 [00:00&lt;00:00,  8.01it/s]"
          }
        },
        "cfb3201607fc481fb75fb382718dd850": {
          "model_module": "@jupyter-widgets/base",
          "model_name": "LayoutModel",
          "model_module_version": "1.2.0",
          "state": {
            "_model_module": "@jupyter-widgets/base",
            "_model_module_version": "1.2.0",
            "_model_name": "LayoutModel",
            "_view_count": null,
            "_view_module": "@jupyter-widgets/base",
            "_view_module_version": "1.2.0",
            "_view_name": "LayoutView",
            "align_content": null,
            "align_items": null,
            "align_self": null,
            "border": null,
            "bottom": null,
            "display": null,
            "flex": null,
            "flex_flow": null,
            "grid_area": null,
            "grid_auto_columns": null,
            "grid_auto_flow": null,
            "grid_auto_rows": null,
            "grid_column": null,
            "grid_gap": null,
            "grid_row": null,
            "grid_template_areas": null,
            "grid_template_columns": null,
            "grid_template_rows": null,
            "height": null,
            "justify_content": null,
            "justify_items": null,
            "left": null,
            "margin": null,
            "max_height": null,
            "max_width": null,
            "min_height": null,
            "min_width": null,
            "object_fit": null,
            "object_position": null,
            "order": null,
            "overflow": null,
            "overflow_x": null,
            "overflow_y": null,
            "padding": null,
            "right": null,
            "top": null,
            "visibility": null,
            "width": null
          }
        },
        "6c50fbf06fa744cabd652ffef6001715": {
          "model_module": "@jupyter-widgets/base",
          "model_name": "LayoutModel",
          "model_module_version": "1.2.0",
          "state": {
            "_model_module": "@jupyter-widgets/base",
            "_model_module_version": "1.2.0",
            "_model_name": "LayoutModel",
            "_view_count": null,
            "_view_module": "@jupyter-widgets/base",
            "_view_module_version": "1.2.0",
            "_view_name": "LayoutView",
            "align_content": null,
            "align_items": null,
            "align_self": null,
            "border": null,
            "bottom": null,
            "display": null,
            "flex": null,
            "flex_flow": null,
            "grid_area": null,
            "grid_auto_columns": null,
            "grid_auto_flow": null,
            "grid_auto_rows": null,
            "grid_column": null,
            "grid_gap": null,
            "grid_row": null,
            "grid_template_areas": null,
            "grid_template_columns": null,
            "grid_template_rows": null,
            "height": null,
            "justify_content": null,
            "justify_items": null,
            "left": null,
            "margin": null,
            "max_height": null,
            "max_width": null,
            "min_height": null,
            "min_width": null,
            "object_fit": null,
            "object_position": null,
            "order": null,
            "overflow": null,
            "overflow_x": null,
            "overflow_y": null,
            "padding": null,
            "right": null,
            "top": null,
            "visibility": null,
            "width": null
          }
        },
        "9c8d3523d82f47aeb8b4408cdbeb2839": {
          "model_module": "@jupyter-widgets/controls",
          "model_name": "DescriptionStyleModel",
          "model_module_version": "1.5.0",
          "state": {
            "_model_module": "@jupyter-widgets/controls",
            "_model_module_version": "1.5.0",
            "_model_name": "DescriptionStyleModel",
            "_view_count": null,
            "_view_module": "@jupyter-widgets/base",
            "_view_module_version": "1.2.0",
            "_view_name": "StyleView",
            "description_width": ""
          }
        },
        "cf25dc4961ad45ac8db18a2d9c30fd5d": {
          "model_module": "@jupyter-widgets/base",
          "model_name": "LayoutModel",
          "model_module_version": "1.2.0",
          "state": {
            "_model_module": "@jupyter-widgets/base",
            "_model_module_version": "1.2.0",
            "_model_name": "LayoutModel",
            "_view_count": null,
            "_view_module": "@jupyter-widgets/base",
            "_view_module_version": "1.2.0",
            "_view_name": "LayoutView",
            "align_content": null,
            "align_items": null,
            "align_self": null,
            "border": null,
            "bottom": null,
            "display": null,
            "flex": null,
            "flex_flow": null,
            "grid_area": null,
            "grid_auto_columns": null,
            "grid_auto_flow": null,
            "grid_auto_rows": null,
            "grid_column": null,
            "grid_gap": null,
            "grid_row": null,
            "grid_template_areas": null,
            "grid_template_columns": null,
            "grid_template_rows": null,
            "height": null,
            "justify_content": null,
            "justify_items": null,
            "left": null,
            "margin": null,
            "max_height": null,
            "max_width": null,
            "min_height": null,
            "min_width": null,
            "object_fit": null,
            "object_position": null,
            "order": null,
            "overflow": null,
            "overflow_x": null,
            "overflow_y": null,
            "padding": null,
            "right": null,
            "top": null,
            "visibility": null,
            "width": null
          }
        },
        "50b75d4faf394d0a9b5f44a3ef7a7289": {
          "model_module": "@jupyter-widgets/controls",
          "model_name": "ProgressStyleModel",
          "model_module_version": "1.5.0",
          "state": {
            "_model_module": "@jupyter-widgets/controls",
            "_model_module_version": "1.5.0",
            "_model_name": "ProgressStyleModel",
            "_view_count": null,
            "_view_module": "@jupyter-widgets/base",
            "_view_module_version": "1.2.0",
            "_view_name": "StyleView",
            "bar_color": null,
            "description_width": ""
          }
        },
        "a03a1800117b4a7f941ba6ec7a025423": {
          "model_module": "@jupyter-widgets/base",
          "model_name": "LayoutModel",
          "model_module_version": "1.2.0",
          "state": {
            "_model_module": "@jupyter-widgets/base",
            "_model_module_version": "1.2.0",
            "_model_name": "LayoutModel",
            "_view_count": null,
            "_view_module": "@jupyter-widgets/base",
            "_view_module_version": "1.2.0",
            "_view_name": "LayoutView",
            "align_content": null,
            "align_items": null,
            "align_self": null,
            "border": null,
            "bottom": null,
            "display": null,
            "flex": null,
            "flex_flow": null,
            "grid_area": null,
            "grid_auto_columns": null,
            "grid_auto_flow": null,
            "grid_auto_rows": null,
            "grid_column": null,
            "grid_gap": null,
            "grid_row": null,
            "grid_template_areas": null,
            "grid_template_columns": null,
            "grid_template_rows": null,
            "height": null,
            "justify_content": null,
            "justify_items": null,
            "left": null,
            "margin": null,
            "max_height": null,
            "max_width": null,
            "min_height": null,
            "min_width": null,
            "object_fit": null,
            "object_position": null,
            "order": null,
            "overflow": null,
            "overflow_x": null,
            "overflow_y": null,
            "padding": null,
            "right": null,
            "top": null,
            "visibility": null,
            "width": null
          }
        },
        "09c27dfca11b4b9a8531181c5fd1aa8a": {
          "model_module": "@jupyter-widgets/controls",
          "model_name": "DescriptionStyleModel",
          "model_module_version": "1.5.0",
          "state": {
            "_model_module": "@jupyter-widgets/controls",
            "_model_module_version": "1.5.0",
            "_model_name": "DescriptionStyleModel",
            "_view_count": null,
            "_view_module": "@jupyter-widgets/base",
            "_view_module_version": "1.2.0",
            "_view_name": "StyleView",
            "description_width": ""
          }
        }
      }
    }
  },
  "nbformat": 4,
  "nbformat_minor": 0
}